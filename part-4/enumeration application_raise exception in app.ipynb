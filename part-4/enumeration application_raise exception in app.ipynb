{
 "cells": [
  {
   "cell_type": "code",
   "execution_count": 14,
   "id": "0afae5f1-6881-42c0-82e5-2c666f73b38d",
   "metadata": {},
   "outputs": [],
   "source": [
    "class GenericException():\n",
    "    pass\n",
    "class Timeout():\n",
    "    pass"
   ]
  },
  {
   "cell_type": "code",
   "execution_count": 15,
   "id": "f226c2b6-3b17-44ec-aa29-9ff65233d0ad",
   "metadata": {},
   "outputs": [],
   "source": [
    "from enum import Enum, unique"
   ]
  },
  {
   "cell_type": "code",
   "execution_count": 16,
   "id": "8cf6ce75-87db-4db8-9810-1a9e1c0b7260",
   "metadata": {},
   "outputs": [],
   "source": [
    "@unique\n",
    "class AppException(Enum):\n",
    "    Timeout = 101,Timeout,'Timeout connection to resource'"
   ]
  },
  {
   "cell_type": "code",
   "execution_count": 17,
   "id": "8fda8209-70b6-4ec5-864e-0bd8c284743f",
   "metadata": {},
   "outputs": [
    {
     "data": {
      "text/plain": [
       "('Timeout', (101, __main__.Timeout, 'Timeout connection to resource'))"
      ]
     },
     "execution_count": 17,
     "metadata": {},
     "output_type": "execute_result"
    }
   ],
   "source": [
    "AppException.Timeout.name, AppException.Timeout.value"
   ]
  },
  {
   "cell_type": "code",
   "execution_count": 18,
   "id": "de4f99a0-3965-465b-9fcb-ac542b7022ed",
   "metadata": {},
   "outputs": [
    {
     "data": {
      "text/plain": [
       "<AppException.Timeout: (101, <class '__main__.Timeout'>, 'Timeout connection to resource')>"
      ]
     },
     "execution_count": 18,
     "metadata": {},
     "output_type": "execute_result"
    }
   ],
   "source": [
    "AppException.Timeout"
   ]
  },
  {
   "cell_type": "code",
   "execution_count": 19,
   "id": "2759e605-28ab-4d2c-8be4-4a5516374110",
   "metadata": {},
   "outputs": [
    {
     "ename": "AttributeError",
     "evalue": "'AppException' object has no attribute 'message'",
     "output_type": "error",
     "traceback": [
      "\u001b[1;31m---------------------------------------------------------------------------\u001b[0m",
      "\u001b[1;31mAttributeError\u001b[0m                            Traceback (most recent call last)",
      "\u001b[1;32m~\\AppData\\Local\\Temp\\ipykernel_1732\\872271666.py\u001b[0m in \u001b[0;36m<module>\u001b[1;34m\u001b[0m\n\u001b[1;32m----> 1\u001b[1;33m \u001b[0mAppException\u001b[0m\u001b[1;33m.\u001b[0m\u001b[0mTimeout\u001b[0m\u001b[1;33m.\u001b[0m\u001b[0mmessage\u001b[0m\u001b[1;33m,\u001b[0m \u001b[0mAppException\u001b[0m\u001b[1;33m.\u001b[0m\u001b[0mTimeout\u001b[0m\u001b[1;33m.\u001b[0m\u001b[0mexception\u001b[0m\u001b[1;33m\u001b[0m\u001b[1;33m\u001b[0m\u001b[0m\n\u001b[0m",
      "\u001b[1;31mAttributeError\u001b[0m: 'AppException' object has no attribute 'message'"
     ]
    }
   ],
   "source": [
    "AppException.Timeout.message, AppException.Timeout.exception"
   ]
  },
  {
   "cell_type": "code",
   "execution_count": 26,
   "id": "e8d0777b-63c2-4562-b078-ccf45b732709",
   "metadata": {},
   "outputs": [],
   "source": [
    "@unique\n",
    "class AppException(Enum):\n",
    "    Timeout = 101,Timeout,'Timeout connection to resource'\n",
    "    \n",
    "    def __new__(cls, ex_code, ex_class, ex_message):\n",
    "        member = object.__new__(cls)\n",
    "        member._value_=ex_code\n",
    "        member.exception=ex_class\n",
    "        member.message=ex_message\n",
    "        return member"
   ]
  },
  {
   "cell_type": "code",
   "execution_count": 27,
   "id": "63d9639f-7eee-47df-9c7c-b30733eb3895",
   "metadata": {},
   "outputs": [
    {
     "data": {
      "text/plain": [
       "(101, 'Timeout connection to resource', __main__.Timeout)"
      ]
     },
     "execution_count": 27,
     "metadata": {},
     "output_type": "execute_result"
    }
   ],
   "source": [
    "AppException.Timeout.value, AppException.Timeout.message,AppException.Timeout.exception"
   ]
  },
  {
   "cell_type": "code",
   "execution_count": 28,
   "id": "f0e98619-5559-432a-b9e9-4b57684ae1bd",
   "metadata": {},
   "outputs": [
    {
     "ename": "TypeError",
     "evalue": "catching classes that do not inherit from BaseException is not allowed",
     "output_type": "error",
     "traceback": [
      "\u001b[1;31m---------------------------------------------------------------------------\u001b[0m",
      "\u001b[1;31mTypeError\u001b[0m                                 Traceback (most recent call last)",
      "\u001b[1;32m~\\AppData\\Local\\Temp\\ipykernel_1732\\2605751656.py\u001b[0m in \u001b[0;36m<module>\u001b[1;34m\u001b[0m\n\u001b[0;32m      1\u001b[0m \u001b[1;32mtry\u001b[0m\u001b[1;33m:\u001b[0m\u001b[1;33m\u001b[0m\u001b[1;33m\u001b[0m\u001b[0m\n\u001b[1;32m----> 2\u001b[1;33m     \u001b[1;32mraise\u001b[0m \u001b[0mAppException\u001b[0m\u001b[1;33m.\u001b[0m\u001b[0mTimeout\u001b[0m\u001b[1;33m.\u001b[0m\u001b[0mexception\u001b[0m\u001b[1;33m(\u001b[0m\u001b[1;34mf'{AppException.Timeout.value} - {AppException.Timeout.message}'\u001b[0m\u001b[1;33m)\u001b[0m\u001b[1;33m\u001b[0m\u001b[1;33m\u001b[0m\u001b[0m\n\u001b[0m\u001b[0;32m      3\u001b[0m \u001b[1;32mexcept\u001b[0m \u001b[0mTimeout\u001b[0m \u001b[1;32mas\u001b[0m \u001b[0mex\u001b[0m\u001b[1;33m:\u001b[0m\u001b[1;33m\u001b[0m\u001b[1;33m\u001b[0m\u001b[0m\n",
      "\u001b[1;31mTypeError\u001b[0m: Timeout() takes no arguments",
      "\nDuring handling of the above exception, another exception occurred:\n",
      "\u001b[1;31mTypeError\u001b[0m                                 Traceback (most recent call last)",
      "\u001b[1;32m~\\AppData\\Local\\Temp\\ipykernel_1732\\2605751656.py\u001b[0m in \u001b[0;36m<module>\u001b[1;34m\u001b[0m\n\u001b[0;32m      1\u001b[0m \u001b[1;32mtry\u001b[0m\u001b[1;33m:\u001b[0m\u001b[1;33m\u001b[0m\u001b[1;33m\u001b[0m\u001b[0m\n\u001b[0;32m      2\u001b[0m     \u001b[1;32mraise\u001b[0m \u001b[0mAppException\u001b[0m\u001b[1;33m.\u001b[0m\u001b[0mTimeout\u001b[0m\u001b[1;33m.\u001b[0m\u001b[0mexception\u001b[0m\u001b[1;33m(\u001b[0m\u001b[1;34mf'{AppException.Timeout.value} - {AppException.Timeout.message}'\u001b[0m\u001b[1;33m)\u001b[0m\u001b[1;33m\u001b[0m\u001b[1;33m\u001b[0m\u001b[0m\n\u001b[1;32m----> 3\u001b[1;33m \u001b[1;32mexcept\u001b[0m \u001b[0mTimeout\u001b[0m \u001b[1;32mas\u001b[0m \u001b[0mex\u001b[0m\u001b[1;33m:\u001b[0m\u001b[1;33m\u001b[0m\u001b[1;33m\u001b[0m\u001b[0m\n\u001b[0m\u001b[0;32m      4\u001b[0m     \u001b[0mprint\u001b[0m\u001b[1;33m(\u001b[0m\u001b[0mex\u001b[0m\u001b[1;33m)\u001b[0m\u001b[1;33m\u001b[0m\u001b[1;33m\u001b[0m\u001b[0m\n",
      "\u001b[1;31mTypeError\u001b[0m: catching classes that do not inherit from BaseException is not allowed"
     ]
    }
   ],
   "source": [
    "try:\n",
    "    raise AppException.Timeout.exception(f'{AppException.Timeout.value} - {AppException.Timeout.message}')\n",
    "except Timeout as ex:\n",
    "    print(ex)"
   ]
  },
  {
   "cell_type": "code",
   "execution_count": null,
   "id": "88b81cc9-598f-489f-83fb-41703c4a6166",
   "metadata": {},
   "outputs": [],
   "source": []
  },
  {
   "cell_type": "code",
   "execution_count": 29,
   "id": "9525b05d-e3a3-4a03-9833-a0b477ee3a09",
   "metadata": {},
   "outputs": [],
   "source": [
    "class GenericException(Exception):\n",
    "    pass\n",
    "class Timeout(Exception):\n",
    "    pass"
   ]
  },
  {
   "cell_type": "code",
   "execution_count": 30,
   "id": "3ded90ef-5030-4242-bdc1-b0935e69288c",
   "metadata": {},
   "outputs": [],
   "source": [
    "from enum import Enum, unique"
   ]
  },
  {
   "cell_type": "code",
   "execution_count": 35,
   "id": "7680a419-2cf0-4757-8798-20facc2862a5",
   "metadata": {},
   "outputs": [],
   "source": [
    "@unique\n",
    "class AppException(Enum):\n",
    "    Timeout = 101,Timeout,'Timeout connection to resource'\n",
    "    \n",
    "    def __new__(cls, ex_code, ex_class, ex_message):\n",
    "        member = object.__new__(cls)\n",
    "        member._value_=ex_code\n",
    "        member.exception=ex_class\n",
    "        member.message=ex_message\n",
    "        return member"
   ]
  },
  {
   "cell_type": "code",
   "execution_count": 36,
   "id": "7165aa01-6855-438e-8d82-51954ca40f96",
   "metadata": {},
   "outputs": [
    {
     "data": {
      "text/plain": [
       "(101, 'Timeout connection to resource', __main__.Timeout)"
      ]
     },
     "execution_count": 36,
     "metadata": {},
     "output_type": "execute_result"
    }
   ],
   "source": [
    "AppException.Timeout.value, AppException.Timeout.message,AppException.Timeout.exception"
   ]
  },
  {
   "cell_type": "code",
   "execution_count": 37,
   "id": "bad17ae0-37e6-44df-b017-f7371c0a7d75",
   "metadata": {},
   "outputs": [
    {
     "name": "stdout",
     "output_type": "stream",
     "text": [
      "101 - Timeout connection to resource\n"
     ]
    }
   ],
   "source": [
    "try:\n",
    "    raise AppException.Timeout.exception(f'{AppException.Timeout.value} - {AppException.Timeout.message}')\n",
    "except Timeout as ex:\n",
    "    print(ex)"
   ]
  },
  {
   "cell_type": "code",
   "execution_count": 38,
   "id": "3d73d409-c8d9-49c1-b018-4a072899d79f",
   "metadata": {},
   "outputs": [],
   "source": [
    "class myclass():\n",
    "    pass"
   ]
  },
  {
   "cell_type": "code",
   "execution_count": 39,
   "id": "abb8e431-cf5a-4171-bcd0-2f44ac9b0c53",
   "metadata": {},
   "outputs": [
    {
     "ename": "TypeError",
     "evalue": "exceptions must derive from BaseException",
     "output_type": "error",
     "traceback": [
      "\u001b[1;31m---------------------------------------------------------------------------\u001b[0m",
      "\u001b[1;31mTypeError\u001b[0m                                 Traceback (most recent call last)",
      "\u001b[1;32m~\\AppData\\Local\\Temp\\ipykernel_1732\\4286756462.py\u001b[0m in \u001b[0;36m<module>\u001b[1;34m\u001b[0m\n\u001b[1;32m----> 1\u001b[1;33m \u001b[1;32mraise\u001b[0m \u001b[0mmyclass\u001b[0m\u001b[1;33m\u001b[0m\u001b[1;33m\u001b[0m\u001b[0m\n\u001b[0m",
      "\u001b[1;31mTypeError\u001b[0m: exceptions must derive from BaseException"
     ]
    }
   ],
   "source": [
    "raise myclass"
   ]
  },
  {
   "cell_type": "code",
   "execution_count": 40,
   "id": "5ab292e3-31b7-437c-ba5e-3ff1a5178971",
   "metadata": {},
   "outputs": [],
   "source": [
    "class myclass(Exception):\n",
    "    pass"
   ]
  },
  {
   "cell_type": "code",
   "execution_count": 44,
   "id": "d080a2e6-2dc0-49cb-925f-0ef0cbfda3da",
   "metadata": {},
   "outputs": [
    {
     "ename": "myclass",
     "evalue": "",
     "output_type": "error",
     "traceback": [
      "\u001b[1;31m---------------------------------------------------------------------------\u001b[0m",
      "\u001b[1;31mmyclass\u001b[0m                                   Traceback (most recent call last)",
      "\u001b[1;32m~\\AppData\\Local\\Temp\\ipykernel_1732\\4286756462.py\u001b[0m in \u001b[0;36m<module>\u001b[1;34m\u001b[0m\n\u001b[1;32m----> 1\u001b[1;33m \u001b[1;32mraise\u001b[0m \u001b[0mmyclass\u001b[0m\u001b[1;33m\u001b[0m\u001b[1;33m\u001b[0m\u001b[0m\n\u001b[0m",
      "\u001b[1;31mmyclass\u001b[0m: "
     ]
    }
   ],
   "source": [
    "raise myclass"
   ]
  },
  {
   "cell_type": "code",
   "execution_count": 43,
   "id": "8ff3f83c-8ba6-4ffd-8d4c-6b3403268683",
   "metadata": {},
   "outputs": [
    {
     "name": "stdout",
     "output_type": "stream",
     "text": [
      "testing\n"
     ]
    }
   ],
   "source": [
    "try:\n",
    "    raise myclass('testing')\n",
    "except Exception as err:\n",
    "    print(err)"
   ]
  },
  {
   "cell_type": "code",
   "execution_count": 45,
   "id": "7e437a9c-8a19-4d27-b27e-c9304230b66b",
   "metadata": {},
   "outputs": [],
   "source": [
    "@unique\n",
    "class AppException(Enum):\n",
    "    Timeout = 101,Timeout,'Timeout connection to resource'\n",
    "    \n",
    "    def __new__(cls, ex_code, ex_class, ex_message):\n",
    "        member = object.__new__(cls)\n",
    "        member._value_=ex_code\n",
    "        member.exception=ex_class\n",
    "        member.message=ex_message\n",
    "        return member\n",
    "    \n",
    "    @property\n",
    "    def code(self):\n",
    "        return self.value\n",
    "    def throw(self):\n",
    "        raise self.exception(f'{self.code} - {self.message}')"
   ]
  },
  {
   "cell_type": "code",
   "execution_count": 47,
   "id": "cd65ac00-eecc-441d-b042-8d7fc26a428f",
   "metadata": {},
   "outputs": [
    {
     "name": "stdout",
     "output_type": "stream",
     "text": [
      "101 - Timeout connection to resource\n"
     ]
    }
   ],
   "source": [
    "try:\n",
    "    AppException.Timeout.throw()\n",
    "except Exception as err:\n",
    "    print(err)"
   ]
  },
  {
   "cell_type": "code",
   "execution_count": 48,
   "id": "26a7d7c1-9e17-43f0-a0ce-4f10cea708a1",
   "metadata": {},
   "outputs": [],
   "source": [
    "@unique\n",
    "class AppException(Enum):\n",
    "    Timeout = 101,Timeout,'Timeout connection to resource'\n",
    "    \n",
    "    def __new__(cls, ex_code, ex_class, ex_message):\n",
    "        member = object.__new__(cls)\n",
    "        member._value_=ex_code\n",
    "        member.exception=ex_class\n",
    "        member.message=ex_message\n",
    "        return member\n",
    "    \n",
    "    @property\n",
    "    def code(self):\n",
    "        return self.value\n",
    "    def throw(self):\n",
    "        raise self.exception(f'{self._value_} - {self.message}')"
   ]
  },
  {
   "cell_type": "code",
   "execution_count": 49,
   "id": "75693a93-1f40-4a6e-a2ba-6f02111e6576",
   "metadata": {},
   "outputs": [
    {
     "name": "stdout",
     "output_type": "stream",
     "text": [
      "101 - Timeout connection to resource\n"
     ]
    }
   ],
   "source": [
    "try:\n",
    "    AppException.Timeout.throw()\n",
    "except Exception as err:\n",
    "    print(err)"
   ]
  },
  {
   "cell_type": "code",
   "execution_count": 50,
   "id": "da59a832-63dc-487d-bf15-226875536b33",
   "metadata": {},
   "outputs": [],
   "source": [
    "@unique\n",
    "class AppException(Enum):\n",
    "    Timeout = 101,Timeout,'Timeout connection to resource'\n",
    "    \n",
    "    def __new__(cls, ex_code, ex_class, ex_message):\n",
    "        member = object.__new__(cls)\n",
    "        member._value_=ex_code\n",
    "        member.exception=ex_class\n",
    "        member.message=ex_message\n",
    "        return member\n",
    "    \n",
    "    @property\n",
    "    def code(self):\n",
    "        return self.value\n",
    "    def throw(self):\n",
    "        raise self.exception(f'{self.value} - {self.message}')"
   ]
  },
  {
   "cell_type": "code",
   "execution_count": 51,
   "id": "d0007726-0233-44d5-8bae-4cee85264c6e",
   "metadata": {},
   "outputs": [
    {
     "name": "stdout",
     "output_type": "stream",
     "text": [
      "101 - Timeout connection to resource\n"
     ]
    }
   ],
   "source": [
    "try:\n",
    "    AppException.Timeout.throw()\n",
    "except Exception as err:\n",
    "    print(err)"
   ]
  },
  {
   "cell_type": "code",
   "execution_count": 56,
   "id": "1129943b-3560-49ac-a923-3f92773264f8",
   "metadata": {},
   "outputs": [],
   "source": [
    "@unique\n",
    "class AppException(Enum):\n",
    "    Timeout = 101,Timeout,'Timeout connection to resource'\n",
    "    \n",
    "    def __new__(cls, ex_code, ex_class, ex_message):\n",
    "        member = object.__new__(cls)\n",
    "        member._value_=ex_code\n",
    "        member.exception=ex_class\n",
    "        member.message=ex_message\n",
    "        return member\n",
    "    \n",
    "    @property\n",
    "    def code(self):\n",
    "        return self.value\n",
    "    def throw(self,message=None):\n",
    "        message=message or self.message\n",
    "        raise self.exception(f'{self.code} - {message}')"
   ]
  },
  {
   "cell_type": "code",
   "execution_count": 57,
   "id": "c8bb6731-d4b6-451a-8ae3-d94d94e6a203",
   "metadata": {},
   "outputs": [
    {
     "name": "stdout",
     "output_type": "stream",
     "text": [
      "101 - hello world\n"
     ]
    }
   ],
   "source": [
    "try:\n",
    "    AppException.Timeout.throw('hello world')\n",
    "except Exception as err:\n",
    "    print(err)"
   ]
  },
  {
   "cell_type": "code",
   "execution_count": null,
   "id": "0e10628c-1654-43ce-9ea5-cccee8667942",
   "metadata": {},
   "outputs": [],
   "source": []
  },
  {
   "cell_type": "code",
   "execution_count": 60,
   "id": "f94ea0b6-8ffe-4ea1-9b17-e9103ab40ace",
   "metadata": {},
   "outputs": [],
   "source": [
    "@unique\n",
    "class AppException(Enum):\n",
    "    Generic=100,GenericException,'Application exception.'\n",
    "    Timeout=101,Timeout,'Timeout connecting to resource'\n",
    "    NotAnInteger=200,ValueError,'Value must be an integer'\n",
    "    NotAList=201,ValueError,'value must be a list'\n",
    "    \n",
    "    def __new__(cls, ex_code, ex_class, ex_message):\n",
    "        member = object.__new__(cls)\n",
    "        member._value_=ex_code\n",
    "        member.exception=ex_class\n",
    "        member.message=ex_message\n",
    "        return member\n",
    "    \n",
    "    @property\n",
    "    def code(self):\n",
    "        return self.value\n",
    "    def throw(self,message=None):\n",
    "        message=message or self.message\n",
    "        raise self.exception(f'{self.code} - {message}')"
   ]
  },
  {
   "cell_type": "code",
   "execution_count": 61,
   "id": "2b63c7ed-3923-46ba-97a9-21a389dcf454",
   "metadata": {},
   "outputs": [
    {
     "data": {
      "text/plain": [
       "[<AppException.Generic: 100>,\n",
       " <AppException.Timeout: 101>,\n",
       " <AppException.NotAnInteger: 200>,\n",
       " <AppException.NotAList: 201>]"
      ]
     },
     "execution_count": 61,
     "metadata": {},
     "output_type": "execute_result"
    }
   ],
   "source": [
    "list(AppException)"
   ]
  },
  {
   "cell_type": "code",
   "execution_count": 62,
   "id": "ba74b48d-ddea-42b3-a0a1-a9a185f14c09",
   "metadata": {},
   "outputs": [
    {
     "data": {
      "text/plain": [
       "[('Generic', 100, 'Application exception.'),\n",
       " ('Timeout', 101, 'Timeout connecting to resource'),\n",
       " ('NotAnInteger', 200, 'Value must be an integer'),\n",
       " ('NotAList', 201, 'value must be a list')]"
      ]
     },
     "execution_count": 62,
     "metadata": {},
     "output_type": "execute_result"
    }
   ],
   "source": [
    "[(ex.name,ex.code,ex.message) for ex in AppException]"
   ]
  },
  {
   "cell_type": "code",
   "execution_count": 63,
   "id": "4cae2ae0-3e1c-427d-957c-1313d8658310",
   "metadata": {},
   "outputs": [
    {
     "data": {
      "text/plain": [
       "[('Generic', 100, __main__.GenericException, 'Application exception.'),\n",
       " ('Timeout', 101, __main__.Timeout, 'Timeout connecting to resource'),\n",
       " ('NotAnInteger', 200, ValueError, 'Value must be an integer'),\n",
       " ('NotAList', 201, ValueError, 'value must be a list')]"
      ]
     },
     "execution_count": 63,
     "metadata": {},
     "output_type": "execute_result"
    }
   ],
   "source": [
    "[(ex.name,ex.code,ex.exception, ex.message) for ex in AppException]"
   ]
  },
  {
   "cell_type": "code",
   "execution_count": 64,
   "id": "9eebe6b8-c370-4097-aba3-27b7b95bf9f8",
   "metadata": {},
   "outputs": [
    {
     "data": {
      "text/plain": [
       "[('Generic', 100, 'GenericException', 'Application exception.'),\n",
       " ('Timeout', 101, 'Timeout', 'Timeout connecting to resource'),\n",
       " ('NotAnInteger', 200, 'ValueError', 'Value must be an integer'),\n",
       " ('NotAList', 201, 'ValueError', 'value must be a list')]"
      ]
     },
     "execution_count": 64,
     "metadata": {},
     "output_type": "execute_result"
    }
   ],
   "source": [
    "[(ex.name,ex.code,ex.exception.__name__, ex.message) for ex in AppException]"
   ]
  },
  {
   "cell_type": "code",
   "execution_count": null,
   "id": "69da4b5e-341d-4392-beff-d24a819cd16e",
   "metadata": {},
   "outputs": [],
   "source": []
  }
 ],
 "metadata": {
  "kernelspec": {
   "display_name": "Python 3 (ipykernel)",
   "language": "python",
   "name": "python3"
  },
  "language_info": {
   "codemirror_mode": {
    "name": "ipython",
    "version": 3
   },
   "file_extension": ".py",
   "mimetype": "text/x-python",
   "name": "python",
   "nbconvert_exporter": "python",
   "pygments_lexer": "ipython3",
   "version": "3.9.13"
  }
 },
 "nbformat": 4,
 "nbformat_minor": 5
}
